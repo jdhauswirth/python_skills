{
  "cells": [
    {
      "cell_type": "markdown",
      "metadata": {
        "id": "view-in-github",
        "colab_type": "text"
      },
      "source": [
        "<a href=\"https://colab.research.google.com/github/jdhauswirth/python_skills/blob/main/001_Anagrams.ipynb\" target=\"_parent\"><img src=\"https://colab.research.google.com/assets/colab-badge.svg\" alt=\"Open In Colab\"/></a>"
      ]
    },
    {
      "cell_type": "markdown",
      "id": "57eba9c5",
      "metadata": {
        "id": "57eba9c5"
      },
      "source": [
        "# Anagram Detection in Python\n",
        "based on post seen on https://medium.com/analytics-vidhya/using-python-to-detect-anagrams-a002ddedb4cb and\n",
        "\n",
        "credit to https://www.linkedin.com/in/michaelgalarnyk/"
      ]
    },
    {
      "cell_type": "markdown",
      "id": "9684cbbc",
      "metadata": {
        "id": "9684cbbc"
      },
      "source": [
        "__Problem Statement__\n",
        "\n",
        "__Task__: Write a program that takes in a word list and outputs a list of all the words that are anagrams of another word in the list.\n",
        "\n",
        "Before starting, it is important to note what an anagram is. \n",
        "\n",
        "An anagram is a word or phrase formed by rearranging the letters of a different word or phrase, typically using all the original letters exactly once.\n",
        "\n",
        "While there are many different ways to solve this problem, this notebook provides two different approaches to solve this problem.\n",
        "\n",
        "For both of the approaches below, we first need to define a word list.\n"
      ]
    },
    {
      "cell_type": "code",
      "execution_count": 1,
      "id": "5cb56100",
      "metadata": {
        "id": "5cb56100"
      },
      "outputs": [],
      "source": [
        "word_list = [\n",
        "    \"times\",\n",
        "    \"silenced\",\n",
        "    \"test\",\n",
        "    \"licensed\",\n",
        "    \"car\",\n",
        "    \"quiz\",\n",
        "    \"arc\",\n",
        "    \"emits\",\n",
        "]"
      ]
    },
    {
      "cell_type": "markdown",
      "id": "60bc8283",
      "metadata": {
        "id": "60bc8283"
      },
      "source": [
        "## __Approach #1__ -  For Loops and Sorted\n"
      ]
    },
    {
      "cell_type": "code",
      "execution_count": 2,
      "id": "e39563c1",
      "metadata": {
        "colab": {
          "base_uri": "https://localhost:8080/"
        },
        "id": "e39563c1",
        "outputId": "8b4106b2-7e4c-4527-a54c-9c4de127d03d"
      },
      "outputs": [
        {
          "output_type": "stream",
          "name": "stdout",
          "text": [
            "The following words from the word list above are anagrams.\n",
            "\n",
            "list:   ['times', 'silenced', 'licensed', 'car', 'arc', 'emits']\n",
            "sorted: ['arc', 'car', 'emits', 'licensed', 'silenced', 'times'] \n",
            "\n"
          ]
        }
      ],
      "source": [
        "# initialize a list\n",
        "anagram_list = []\n",
        "\n",
        "for word_1 in word_list:\n",
        "    for word_2 in word_list:\n",
        "        if word_1 != word_2 and (sorted(word_1) == sorted(word_2)):\n",
        "            anagram_list.append(word_1)\n",
        "\n",
        "print(\"The following words from the word list above are anagrams.\\n\")\n",
        "print(\"list:  \", anagram_list)\n",
        "print(\"sorted:\", sorted(anagram_list), \"\\n\")\n"
      ]
    },
    {
      "cell_type": "code",
      "source": [
        "def non_match_elements(list_a, list_b):\n",
        "    non_match = []\n",
        "    for i in list_a:\n",
        "        if i not in list_b:\n",
        "            non_match.append(i)\n",
        "    return non_match"
      ],
      "metadata": {
        "id": "R2qyxSPPdll9"
      },
      "id": "R2qyxSPPdll9",
      "execution_count": 3,
      "outputs": []
    },
    {
      "cell_type": "code",
      "source": [
        "non_anagrams_list = non_match_elements(word_list, anagram_list)\n",
        "print(\"Not an Anagram List: \", non_anagrams_list)"
      ],
      "metadata": {
        "colab": {
          "base_uri": "https://localhost:8080/"
        },
        "id": "5aS0IOTPfcM1",
        "outputId": "a7fe1371-e0a7-4ae7-bc17-b023a709f4df"
      },
      "id": "5aS0IOTPfcM1",
      "execution_count": 4,
      "outputs": [
        {
          "output_type": "stream",
          "name": "stdout",
          "text": [
            "Not an Anagram List:  ['test', 'quiz']\n"
          ]
        }
      ]
    },
    {
      "cell_type": "markdown",
      "source": [
        "* these 2 words above could be considered synonyms but are not anagrams."
      ],
      "metadata": {
        "id": "6XXn3umCg4BD"
      },
      "id": "6XXn3umCg4BD"
    },
    {
      "cell_type": "code",
      "source": [
        "print(sorted(\"licensed\"))"
      ],
      "metadata": {
        "colab": {
          "base_uri": "https://localhost:8080/"
        },
        "id": "KcqFT8Dlb8Pk",
        "outputId": "04dfc77f-037c-4449-fd7c-4259d744dd51"
      },
      "id": "KcqFT8Dlb8Pk",
      "execution_count": 5,
      "outputs": [
        {
          "output_type": "stream",
          "name": "stdout",
          "text": [
            "['c', 'd', 'e', 'e', 'i', 'l', 'n', 's']\n"
          ]
        }
      ]
    },
    {
      "cell_type": "code",
      "source": [
        "print(sorted(\"silenced\"))"
      ],
      "metadata": {
        "colab": {
          "base_uri": "https://localhost:8080/"
        },
        "id": "5MdSTfdrb8SS",
        "outputId": "6aac1b19-e515-4642-8314-812c62ddf7bc"
      },
      "id": "5MdSTfdrb8SS",
      "execution_count": 6,
      "outputs": [
        {
          "output_type": "stream",
          "name": "stdout",
          "text": [
            "['c', 'd', 'e', 'e', 'i', 'l', 'n', 's']\n"
          ]
        }
      ]
    },
    {
      "cell_type": "code",
      "execution_count": 7,
      "id": "23247ce9",
      "metadata": {
        "colab": {
          "base_uri": "https://localhost:8080/"
        },
        "id": "23247ce9",
        "outputId": "a5f3ec67-8096-4afb-ccdb-565430e62d7a"
      },
      "outputs": [
        {
          "output_type": "stream",
          "name": "stdout",
          "text": [
            "['e', 'i', 'm', 's', 't']\n",
            "['c', 'd', 'e', 'e', 'i', 'l', 'n', 's']\n",
            "['c', 'd', 'e', 'e', 'i', 'l', 'n', 's']\n",
            "['a', 'c', 'r']\n",
            "['a', 'c', 'r']\n",
            "['e', 'i', 'm', 's', 't']\n"
          ]
        }
      ],
      "source": [
        "for word in anagram_list:\n",
        "    print(sorted(word))"
      ]
    },
    {
      "cell_type": "markdown",
      "id": "0821ed01",
      "metadata": {
        "id": "0821ed01"
      },
      "source": [
        "\n",
        "## __Approach #2__ - Using a python dictionary"
      ]
    },
    {
      "cell_type": "code",
      "execution_count": 8,
      "id": "a80b5309",
      "metadata": {
        "colab": {
          "base_uri": "https://localhost:8080/"
        },
        "id": "a80b5309",
        "outputId": "30018e55-b3f6-4b28-955b-2a7704d145fb"
      },
      "outputs": [
        {
          "output_type": "stream",
          "name": "stdout",
          "text": [
            "The following words in the words list above are anagrams.\n",
            "\n",
            "list:   ['times', 'silenced', 'licensed', 'car', 'arc', 'emits']\n",
            "sorted: ['arc', 'car', 'emits', 'licensed', 'silenced', 'times']\n"
          ]
        }
      ],
      "source": [
        "def freq(word):\n",
        "    freq_dict = {}\n",
        "    for char in word:\n",
        "        freq_dict[char] = freq_dict.get(char, 0) + 1\n",
        "    return freq_dict\n",
        "\n",
        "\n",
        "# initialize a list\n",
        "anagram_list = []\n",
        "\n",
        "for word_1 in word_list:\n",
        "    for word_2 in word_list:\n",
        "        if word_1 != word_2 and (freq(word_1) == freq(word_2)):\n",
        "            anagram_list.append(word_1)\n",
        "\n",
        "print(\"The following words in the words list above are anagrams.\\n\")\n",
        "print(\"list:  \", anagram_list)\n",
        "print(\"sorted:\", sorted(anagram_list))"
      ]
    },
    {
      "cell_type": "markdown",
      "id": "1a132c15",
      "metadata": {
        "id": "1a132c15"
      },
      "source": [
        "If you look at the inner for loop, the code ```freq(word_1) == freq(word_2)``` checks that the words are not the same. The function freq converts each word to a dictionary of char frequency. For example, since freq('percussion') == freq('supersonic') is True, they are anagrams of each other."
      ]
    },
    {
      "cell_type": "code",
      "source": [
        "non_anagrams_list = non_match_elements(word_list, anagram_list)\n",
        "print(\"Not an Anagram List: \", non_anagrams_list)"
      ],
      "metadata": {
        "colab": {
          "base_uri": "https://localhost:8080/"
        },
        "id": "KyDW4DJffiT_",
        "outputId": "2c1ac776-9d0a-4c6a-a878-a30c25065a46"
      },
      "id": "KyDW4DJffiT_",
      "execution_count": 9,
      "outputs": [
        {
          "output_type": "stream",
          "name": "stdout",
          "text": [
            "Not an Anagram List:  ['test', 'quiz']\n"
          ]
        }
      ]
    },
    {
      "cell_type": "code",
      "execution_count": 10,
      "id": "10d24eed",
      "metadata": {
        "colab": {
          "base_uri": "https://localhost:8080/"
        },
        "id": "10d24eed",
        "outputId": "21ab195a-810f-4580-a7bd-cfda32cf7731"
      },
      "outputs": [
        {
          "output_type": "stream",
          "name": "stdout",
          "text": [
            "{'p': 1, 'e': 1, 'r': 1, 'c': 1, 'u': 1, 's': 2, 'i': 1, 'o': 1, 'n': 1}\n"
          ]
        }
      ],
      "source": [
        "print(freq(\"percussion\"))"
      ]
    },
    {
      "cell_type": "code",
      "execution_count": 11,
      "id": "bcd8fef2",
      "metadata": {
        "colab": {
          "base_uri": "https://localhost:8080/"
        },
        "id": "bcd8fef2",
        "outputId": "56b53dc1-36e6-4176-9823-74737747ebe2"
      },
      "outputs": [
        {
          "output_type": "stream",
          "name": "stdout",
          "text": [
            "{'s': 2, 'u': 1, 'p': 1, 'e': 1, 'r': 1, 'o': 1, 'n': 1, 'i': 1, 'c': 1}\n"
          ]
        }
      ],
      "source": [
        "print(freq(\"supersonic\"))"
      ]
    },
    {
      "cell_type": "markdown",
      "id": "99434f64",
      "metadata": {
        "id": "99434f64"
      },
      "source": [
        "For the dictionaries above, notice that the ordering of the output is different. \n",
        "\n",
        "This is because as of Python 3.6, for the CPython implementation of Python, dictionaries remember the order of items inserted. \n",
        "\n",
        "In the example below, both of the outputs have the same key-value pairs which means that freq('percussion') == freq('supersonic')."
      ]
    },
    {
      "cell_type": "code",
      "execution_count": 12,
      "id": "8ddf2e23",
      "metadata": {
        "colab": {
          "base_uri": "https://localhost:8080/"
        },
        "id": "8ddf2e23",
        "outputId": "bd62840a-26dd-4ce9-b7b7-d2f42201e2ca"
      },
      "outputs": [
        {
          "output_type": "execute_result",
          "data": {
            "text/plain": [
              "[('c', 1),\n",
              " ('e', 1),\n",
              " ('i', 1),\n",
              " ('n', 1),\n",
              " ('o', 1),\n",
              " ('p', 1),\n",
              " ('r', 1),\n",
              " ('s', 2),\n",
              " ('u', 1)]"
            ]
          },
          "metadata": {},
          "execution_count": 12
        }
      ],
      "source": [
        "sorted(list(freq(\"percussion\").items()))"
      ]
    },
    {
      "cell_type": "code",
      "execution_count": 13,
      "id": "279731df",
      "metadata": {
        "colab": {
          "base_uri": "https://localhost:8080/"
        },
        "id": "279731df",
        "outputId": "522b8f2e-1deb-4383-d3ba-1162495da8c1"
      },
      "outputs": [
        {
          "output_type": "execute_result",
          "data": {
            "text/plain": [
              "[('c', 1),\n",
              " ('e', 1),\n",
              " ('i', 1),\n",
              " ('n', 1),\n",
              " ('o', 1),\n",
              " ('p', 1),\n",
              " ('r', 1),\n",
              " ('s', 2),\n",
              " ('u', 1)]"
            ]
          },
          "metadata": {},
          "execution_count": 13
        }
      ],
      "source": [
        "sorted(list(freq(\"supersonic\").items()))"
      ]
    },
    {
      "cell_type": "markdown",
      "id": "c6923302",
      "metadata": {
        "id": "c6923302"
      },
      "source": [
        "__Concluding Remarks__\n",
        "\n",
        "These two approaches are definitely not the only ways to detect anagrams, but hopefully this notebook helped you. \n",
        "\n",
        "Feel free to share your ideas or approaches via [pull request](https://github.com/jdhauswirth/python_skills/pulls) if there is a better and/or simpler approach.\n"
      ]
    },
    {
      "cell_type": "code",
      "source": [
        ""
      ],
      "metadata": {
        "id": "nUqSADXzhWKr"
      },
      "id": "nUqSADXzhWKr",
      "execution_count": 13,
      "outputs": []
    }
  ],
  "metadata": {
    "kernelspec": {
      "display_name": "Python 3 (ipykernel)",
      "language": "python",
      "name": "python3"
    },
    "language_info": {
      "codemirror_mode": {
        "name": "ipython",
        "version": 3
      },
      "file_extension": ".py",
      "mimetype": "text/x-python",
      "name": "python",
      "nbconvert_exporter": "python",
      "pygments_lexer": "ipython3",
      "version": "3.8.12"
    },
    "colab": {
      "name": "001_Anagrams.ipynb",
      "provenance": [],
      "include_colab_link": true
    }
  },
  "nbformat": 4,
  "nbformat_minor": 5
}