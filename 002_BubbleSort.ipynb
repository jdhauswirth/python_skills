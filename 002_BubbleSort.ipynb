{
  "cells": [
    {
      "cell_type": "markdown",
      "metadata": {
        "id": "view-in-github",
        "colab_type": "text"
      },
      "source": [
        "<a href=\"https://colab.research.google.com/github/jdhauswirth/python_skills/blob/main/002_BubbleSort.ipynb\" target=\"_parent\"><img src=\"https://colab.research.google.com/assets/colab-badge.svg\" alt=\"Open In Colab\"/></a>"
      ]
    },
    {
      "cell_type": "markdown",
      "id": "ce447d63",
      "metadata": {
        "id": "ce447d63"
      },
      "source": [
        "# Bubble Sort in Python"
      ]
    },
    {
      "cell_type": "markdown",
      "id": "e52b171a",
      "metadata": {
        "id": "e52b171a"
      },
      "source": [
        "Bubble Sort is often the first sorting algorithms introduced in Computer Science courses.\n",
        "\n",
        "The idea behind Bubble Sort is very simple as it looks at pairs of adjacent elements in an array, one pair at a time, and swaps  positions if the first element is larger than the second. If not, move on until the end of the array/list is reached. \n"
      ]
    },
    {
      "cell_type": "markdown",
      "id": "7cf44655",
      "metadata": {
        "id": "7cf44655"
      },
      "source": [
        "## Implementation"
      ]
    },
    {
      "cell_type": "code",
      "execution_count": 1,
      "id": "164e5190",
      "metadata": {
        "id": "164e5190"
      },
      "outputs": [],
      "source": [
        "def bubble_sort(nums_list):\n",
        "    \"\"\"\n",
        "    Examine pairs of adjacent elements in an array, one pair at a time, and swap their positions\n",
        "    if the first element is smaller than the second. Continue until end of array is reached.\n",
        "\n",
        "    Arguments:\n",
        "      nums_list - a list of numbers\n",
        "      mode - 'a' or 'd' (ascending/default or descending)\n",
        "    return: a sorted (ascending) list of numbers\n",
        "    \"\"\"\n",
        "    # set range\n",
        "    for i in range(len(nums_list)):\n",
        "        # set last pair of adjacent elements to be (n-2, n-1)\n",
        "        for j in range(len(nums_list) - 1):\n",
        "            # evaluation\n",
        "            if nums_list[j] > nums_list[j + 1]:\n",
        "                # swap\n",
        "                nums_list[j], nums_list[j + 1] = nums_list[j + 1], nums_list[j]"
      ]
    },
    {
      "cell_type": "markdown",
      "id": "95d114a0",
      "metadata": {
        "id": "95d114a0"
      },
      "source": [
        "### Define list"
      ]
    },
    {
      "cell_type": "code",
      "execution_count": 2,
      "id": "13601b22",
      "metadata": {
        "id": "13601b22"
      },
      "outputs": [],
      "source": [
        "nums_list = [20, 15, 7.1, 2, 21, 9]"
      ]
    },
    {
      "cell_type": "markdown",
      "id": "5f43e0c2",
      "metadata": {
        "id": "5f43e0c2"
      },
      "source": [
        "### Call sort function"
      ]
    },
    {
      "cell_type": "code",
      "execution_count": 3,
      "id": "ebc32f07",
      "metadata": {
        "colab": {
          "base_uri": "https://localhost:8080/"
        },
        "id": "ebc32f07",
        "outputId": "16045f2e-52c1-478c-c0e1-4a91aab9d712"
      },
      "outputs": [
        {
          "output_type": "stream",
          "name": "stdout",
          "text": [
            "[2, 7.1, 9, 15, 20, 21]\n"
          ]
        }
      ],
      "source": [
        "bubble_sort(nums_list)\n",
        "\n",
        "# report results\n",
        "print(nums_list)"
      ]
    },
    {
      "cell_type": "markdown",
      "id": "b259a254",
      "metadata": {
        "id": "b259a254"
      },
      "source": [
        "### Reverse list"
      ]
    },
    {
      "cell_type": "code",
      "execution_count": 4,
      "id": "6c8568c1",
      "metadata": {
        "id": "6c8568c1"
      },
      "outputs": [],
      "source": [
        "nums_list.reverse()"
      ]
    },
    {
      "cell_type": "code",
      "execution_count": 5,
      "id": "d8fcc986",
      "metadata": {
        "colab": {
          "base_uri": "https://localhost:8080/"
        },
        "id": "d8fcc986",
        "outputId": "2cc68cd3-0983-4b30-8d26-67f098647755"
      },
      "outputs": [
        {
          "output_type": "stream",
          "name": "stdout",
          "text": [
            "[21, 20, 15, 9, 7.1, 2]\n"
          ]
        }
      ],
      "source": [
        "# report results\n",
        "print(nums_list)"
      ]
    },
    {
      "cell_type": "markdown",
      "id": "6d829969",
      "metadata": {
        "id": "6d829969"
      },
      "source": [
        "## Option #2"
      ]
    },
    {
      "cell_type": "code",
      "execution_count": 6,
      "id": "5bc9d5e1",
      "metadata": {
        "id": "5bc9d5e1"
      },
      "outputs": [],
      "source": [
        "# Python program for implementation of Bubble Sort\n",
        " \n",
        "def bubble_sort_nums(arr):\n",
        "    n = len(arr)\n",
        " \n",
        "    # Traverse through all array elements\n",
        "    for i in range(n-1):\n",
        "    # range(n) also work but outer loop will\n",
        "    # repeat one time more than needed.\n",
        " \n",
        "        # Last i elements are already in place\n",
        "        for j in range(0, n-i-1):\n",
        " \n",
        "            # traverse the array from 0 to n-i-1\n",
        "            # Swap if the element found is greater\n",
        "            # than the next element\n",
        "            if arr[j] > arr[j + 1] :\n",
        "                arr[j], arr[j + 1] = arr[j + 1], arr[j]\n",
        " \n"
      ]
    },
    {
      "cell_type": "code",
      "execution_count": 7,
      "id": "41d1c30a",
      "metadata": {
        "colab": {
          "base_uri": "https://localhost:8080/"
        },
        "id": "41d1c30a",
        "outputId": "3d88ca38-c0c8-4ee5-fe8b-3df58452aa39"
      },
      "outputs": [
        {
          "output_type": "stream",
          "name": "stdout",
          "text": [
            "Sorted array is:\n",
            " 1  12  34  64  125  190  322 "
          ]
        }
      ],
      "source": [
        "# Driver code to test above\n",
        "list_of_nums = [64, 34, 125, 12, 322, 1, 190]\n",
        "\n",
        "bubble_sort_nums(list_of_nums)\n",
        "\n",
        "print(\"Sorted array is:\")\n",
        "for i in range(len(list_of_nums)):\n",
        "    print(\"% d\" % list_of_nums[i], end=\" \")"
      ]
    },
    {
      "cell_type": "markdown",
      "source": [
        "### Reverse list"
      ],
      "metadata": {
        "id": "JBaVPODLJ_I4"
      },
      "id": "JBaVPODLJ_I4"
    },
    {
      "cell_type": "code",
      "execution_count": 8,
      "id": "8ee89285",
      "metadata": {
        "id": "8ee89285"
      },
      "outputs": [],
      "source": [
        "list_of_nums.reverse()"
      ]
    },
    {
      "cell_type": "code",
      "source": [
        "# report results\n",
        "print(list_of_nums)"
      ],
      "metadata": {
        "colab": {
          "base_uri": "https://localhost:8080/"
        },
        "id": "hFPc5adAJ5Q-",
        "outputId": "14861a93-6ad1-42ad-c7e5-def45c03ed42"
      },
      "id": "hFPc5adAJ5Q-",
      "execution_count": 9,
      "outputs": [
        {
          "output_type": "stream",
          "name": "stdout",
          "text": [
            "[322, 190, 125, 64, 34, 12, 1]\n"
          ]
        }
      ]
    },
    {
      "cell_type": "code",
      "source": [
        ""
      ],
      "metadata": {
        "id": "Cff0gxyzJ7-l"
      },
      "id": "Cff0gxyzJ7-l",
      "execution_count": 9,
      "outputs": []
    }
  ],
  "metadata": {
    "kernelspec": {
      "display_name": "Python 3 (ipykernel)",
      "language": "python",
      "name": "python3"
    },
    "language_info": {
      "codemirror_mode": {
        "name": "ipython",
        "version": 3
      },
      "file_extension": ".py",
      "mimetype": "text/x-python",
      "name": "python",
      "nbconvert_exporter": "python",
      "pygments_lexer": "ipython3",
      "version": "3.8.12"
    },
    "colab": {
      "name": "002_BubbleSort.ipynb",
      "provenance": [],
      "include_colab_link": true
    }
  },
  "nbformat": 4,
  "nbformat_minor": 5
}